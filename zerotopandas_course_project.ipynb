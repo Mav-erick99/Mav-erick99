{
  "nbformat": 4,
  "nbformat_minor": 0,
  "metadata": {
    "colab": {
      "name": "zerotopandas-course-project.ipynb",
      "provenance": [],
      "collapsed_sections": [],
      "include_colab_link": true
    },
    "kernelspec": {
      "display_name": "Python 3",
      "language": "python",
      "name": "python3"
    },
    "language_info": {
      "codemirror_mode": {
        "name": "ipython",
        "version": 3
      },
      "file_extension": ".py",
      "mimetype": "text/x-python",
      "name": "python",
      "nbconvert_exporter": "python",
      "pygments_lexer": "ipython3",
      "version": "3.8.5"
    }
  },
  "cells": [
    {
      "cell_type": "markdown",
      "metadata": {
        "id": "view-in-github",
        "colab_type": "text"
      },
      "source": [
        "<a href=\"https://colab.research.google.com/github/Mav-erick99/Mav-erick99/blob/main/zerotopandas_course_project.ipynb\" target=\"_parent\"><img src=\"https://colab.research.google.com/assets/colab-badge.svg\" alt=\"Open In Colab\"/></a>"
      ]
    },
    {
      "cell_type": "code",
      "metadata": {
        "colab": {
          "base_uri": "https://localhost:8080/"
        },
        "id": "s0GrUye-amFm",
        "outputId": "efb2fdb3-0aef-4ae9-88dd-ec03aeb5ddcd"
      },
      "source": [
        "# Jovian Commit Essentials\n",
        "# Please retain and execute this cell without modifying the contents for `jovian.commit` to work\n",
        "!pip install jovian --upgrade -q\n",
        "import jovian\n",
        "jovian.set_project('stellar-classification-mk-system')\n",
        "jovian.set_colab_id('12DMZql9l9w7g61AuHgo2q4bL6d_h5VUs')"
      ],
      "execution_count": null,
      "outputs": [
        {
          "output_type": "stream",
          "text": [
            "\u001b[?25l\r\u001b[K     |████▊                           | 10 kB 20.3 MB/s eta 0:00:01\r\u001b[K     |█████████▌                      | 20 kB 26.4 MB/s eta 0:00:01\r\u001b[K     |██████████████▎                 | 30 kB 20.9 MB/s eta 0:00:01\r\u001b[K     |███████████████████             | 40 kB 16.2 MB/s eta 0:00:01\r\u001b[K     |███████████████████████▉        | 51 kB 5.5 MB/s eta 0:00:01\r\u001b[K     |████████████████████████████▋   | 61 kB 6.0 MB/s eta 0:00:01\r\u001b[K     |████████████████████████████████| 68 kB 2.8 MB/s \n",
            "\u001b[?25h  Building wheel for uuid (setup.py) ... \u001b[?25l\u001b[?25hdone\n"
          ],
          "name": "stdout"
        }
      ]
    },
    {
      "cell_type": "markdown",
      "metadata": {
        "id": "uDsAcVMyF_pG"
      },
      "source": [
        "# STELLAR CLASSIFICATION IN THE MORGAN-KEENAN (MK) SYSTEM\n",
        "\n",
        "This is a dataset of stars classified in the MK sytem from Kaggle.Along with the classification it also has the apparent magnitude, parallax, error in parallax and the B-V value of these stars.\n",
        "\n",
        "We can find the temperature, distance from earth in parsec and absolute magnitude of these stars using this dataset."
      ]
    },
    {
      "cell_type": "markdown",
      "metadata": {
        "id": "2EGbYoZfF_pT"
      },
      "source": [
        "### How to run the code\n",
        "\n",
        "This is an executable [*Jupyter notebook*](https://jupyter.org) hosted on [Jovian.ml](https://www.jovian.ml), a platform for sharing data science projects. You can run and experiment with the code in a couple of ways: *using free online resources* (recommended) or *on your own computer*.\n",
        "\n",
        "#### Option 1: Running using free online resources (1-click, recommended)\n",
        "\n",
        "The easiest way to start executing this notebook is to click the \"Run\" button at the top of this page, and select \"Run on Binder\". This will run the notebook on [mybinder.org](https://mybinder.org), a free online service for running Jupyter notebooks. You can also select \"Run on Colab\" or \"Run on Kaggle\".\n",
        "\n",
        "\n",
        "#### Option 2: Running on your computer locally\n",
        "\n",
        "1. Install Conda by [following these instructions](https://conda.io/projects/conda/en/latest/user-guide/install/index.html). Add Conda binaries to your system `PATH`, so you can use the `conda` command on your terminal.\n",
        "\n",
        "2. Create a Conda environment and install the required libraries by running these commands on the terminal:\n",
        "\n",
        "```\n",
        "conda create -n zerotopandas -y python=3.8 \n",
        "conda activate zerotopandas\n",
        "pip install jovian jupyter numpy pandas matplotlib seaborn opendatasets --upgrade\n",
        "```\n",
        "\n",
        "3. Press the \"Clone\" button above to copy the command for downloading the notebook, and run it on the terminal. This will create a new directory and download the notebook. The command will look something like this:\n",
        "\n",
        "```\n",
        "jovian clone notebook-owner/notebook-id\n",
        "```\n",
        "\n",
        "\n",
        "\n",
        "4. Enter the newly created directory using `cd directory-name` and start the Jupyter notebook.\n",
        "\n",
        "```\n",
        "jupyter notebook\n",
        "```\n",
        "\n",
        "You can now access Jupyter's web interface by clicking the link that shows up on the terminal or by visiting http://localhost:8888 on your browser. Click on the notebook file (it has a `.ipynb` extension) to open it.\n"
      ]
    },
    {
      "cell_type": "markdown",
      "metadata": {
        "id": "PcrdWZqbF_pW"
      },
      "source": [
        "## Downloading the Dataset\n",
        "\n",
        "The dataset can be easily downloaded through kaggle using my kaggle username and kaggle key."
      ]
    },
    {
      "cell_type": "markdown",
      "metadata": {
        "id": "gLL0xkQrF_pZ"
      },
      "source": [
        "> Instructions for downloading the dataset (delete this cell)\n",
        ">\n",
        "> - Find an interesting dataset on this page: https://www.kaggle.com/datasets?fileType=csv\n",
        "> - The data should be in CSV format, and should contain at least 3 columns and 150 rows\n",
        "> - Download the dataset using the [`opendatasets` Python library](https://github.com/JovianML/opendatasets#opendatasets)"
      ]
    },
    {
      "cell_type": "code",
      "metadata": {
        "id": "dbIgMNpqF_pd"
      },
      "source": [
        "!pip install jovian opendatasets --upgrade --quiet"
      ],
      "execution_count": null,
      "outputs": []
    },
    {
      "cell_type": "markdown",
      "metadata": {
        "id": "OJofPoXaF_ph"
      },
      "source": [
        "Let's begin by downloading the data, and listing the files within the dataset."
      ]
    },
    {
      "cell_type": "code",
      "metadata": {
        "id": "F3Y2S-GoF_pn"
      },
      "source": [
        "dataset_url = 'https://www.kaggle.com/vinesmsuic/star-categorization-giants-and-dwarfs' "
      ],
      "execution_count": null,
      "outputs": []
    },
    {
      "cell_type": "code",
      "metadata": {
        "colab": {
          "base_uri": "https://localhost:8080/"
        },
        "id": "nK1zMDsCF_pt",
        "outputId": "10ff4e6f-26a7-4ee9-aae2-78977b3802b1"
      },
      "source": [
        "import opendatasets as od\n",
        "od.download(dataset_url)"
      ],
      "execution_count": null,
      "outputs": [
        {
          "output_type": "stream",
          "text": [
            "Please provide your Kaggle credentials to download this dataset. Learn more: http://bit.ly/kaggle-creds\n",
            "Your Kaggle username: mavericksahay\n",
            "Your Kaggle Key: ··········\n"
          ],
          "name": "stdout"
        },
        {
          "output_type": "stream",
          "text": [
            "100%|██████████| 2.06M/2.06M [00:00<00:00, 64.9MB/s]"
          ],
          "name": "stderr"
        },
        {
          "output_type": "stream",
          "text": [
            "Downloading star-categorization-giants-and-dwarfs.zip to ./star-categorization-giants-and-dwarfs\n",
            "\n"
          ],
          "name": "stdout"
        },
        {
          "output_type": "stream",
          "text": [
            "\n"
          ],
          "name": "stderr"
        }
      ]
    },
    {
      "cell_type": "markdown",
      "metadata": {
        "id": "s7UaZif9F_p8"
      },
      "source": [
        "The dataset has been downloaded and extracted."
      ]
    },
    {
      "cell_type": "code",
      "metadata": {
        "id": "vtnl0svtF_p-"
      },
      "source": [
        "stellar_data_dir = '/content/star-categorization-giants-and-dwarfs'"
      ],
      "execution_count": null,
      "outputs": []
    },
    {
      "cell_type": "code",
      "metadata": {
        "colab": {
          "base_uri": "https://localhost:8080/"
        },
        "id": "_WKLiWCqF_qA",
        "outputId": "a189b335-765f-4968-b9ee-4bed98470778"
      },
      "source": [
        "import os\n",
        "os.listdir(stellar_data_dir)"
      ],
      "execution_count": null,
      "outputs": [
        {
          "output_type": "execute_result",
          "data": {
            "text/plain": [
              "['Star3642_balanced.csv',\n",
              " 'Star9999_raw.csv',\n",
              " 'Star99999_raw.csv',\n",
              " 'Star39552_balanced.csv']"
            ]
          },
          "metadata": {
            "tags": []
          },
          "execution_count": 6
        }
      ]
    },
    {
      "cell_type": "markdown",
      "metadata": {
        "id": "LtrKIaJ5F_qE"
      },
      "source": [
        "Let us save and upload our work to Jovian before continuing."
      ]
    },
    {
      "cell_type": "code",
      "metadata": {
        "id": "1HWJOsd4F_qH"
      },
      "source": [
        "project_name = \"stellar-classification-mk-system\" "
      ],
      "execution_count": null,
      "outputs": []
    },
    {
      "cell_type": "code",
      "metadata": {
        "id": "sQGFc4chF_qP"
      },
      "source": [
        "!pip install jovian --upgrade -q"
      ],
      "execution_count": null,
      "outputs": []
    },
    {
      "cell_type": "code",
      "metadata": {
        "id": "Y3ETg1djF_qQ"
      },
      "source": [
        "import jovian"
      ],
      "execution_count": null,
      "outputs": []
    },
    {
      "cell_type": "code",
      "metadata": {
        "colab": {
          "base_uri": "https://localhost:8080/",
          "height": 120
        },
        "id": "0T1E3J8OF_qR",
        "outputId": "2a3aa472-7e38-4e0d-b0c3-48a45c7938df"
      },
      "source": [
        "jovian.commit(project=project_name)"
      ],
      "execution_count": null,
      "outputs": [
        {
          "output_type": "stream",
          "text": [
            "[jovian] Detected Colab notebook...\u001b[0m\n",
            "[jovian] Please enter your API key ( from https://jovian.ai/ ):\u001b[0m\n",
            "API KEY: ··········\n",
            "[jovian] Uploading colab notebook to Jovian...\u001b[0m\n",
            "Committed successfully! https://jovian.ai/shantanusahay99/stellar-classification-mk-system\n"
          ],
          "name": "stdout"
        },
        {
          "output_type": "execute_result",
          "data": {
            "application/vnd.google.colaboratory.intrinsic+json": {
              "type": "string"
            },
            "text/plain": [
              "'https://jovian.ai/shantanusahay99/stellar-classification-mk-system'"
            ]
          },
          "metadata": {
            "tags": []
          },
          "execution_count": 10
        }
      ]
    },
    {
      "cell_type": "markdown",
      "metadata": {
        "id": "_4JJnKnCF_qU"
      },
      "source": [
        "## Data Preparation and Cleaning\n",
        "\n",
        "\n",
        "\n"
      ]
    },
    {
      "cell_type": "code",
      "metadata": {
        "id": "Dw8A1Rq2F_qZ"
      },
      "source": [
        "import pandas as pd"
      ],
      "execution_count": null,
      "outputs": []
    },
    {
      "cell_type": "code",
      "metadata": {
        "id": "x7jh_yUBF_qb"
      },
      "source": [
        "stellar_df=pd.read_csv('/content/star-categorization-giants-and-dwarfs/Star99999_raw.csv')"
      ],
      "execution_count": null,
      "outputs": []
    },
    {
      "cell_type": "markdown",
      "metadata": {
        "id": "KPFdL5t4oEmg"
      },
      "source": [
        "We can't have empty string in our data so we find them and replace them with np.nan (Not a Number) so that they can easily be dropped from the dataset."
      ]
    },
    {
      "cell_type": "code",
      "metadata": {
        "id": "eIpOOPsQF_qd"
      },
      "source": [
        "import numpy as np\n",
        "\n",
        "stellar_df[\"SpType\"].replace(\"\",np.nan,inplace=True)\n",
        "stellar_df[\"Plx\"].replace(\"\",np.nan,inplace=True)\n",
        "stellar_df[\"e_Plx\"].replace(\"\",np.nan,inplace=True)\n",
        "stellar_df[\"B-V\"].replace(\"\",np.nan,inplace=True)\n",
        "stellar_df[\"Vmag\"].replace(\"\",np.nan,inplace=True)"
      ],
      "execution_count": null,
      "outputs": []
    },
    {
      "cell_type": "code",
      "metadata": {
        "id": "7jXkf0kQF_qd"
      },
      "source": [
        "stellar_df.dropna(subset=[\"SpType\"],inplace=True)\n",
        "stellar_df.dropna(subset=[\"Plx\"],inplace=True)\n",
        "stellar_df.dropna(subset=[\"e_Plx\"],inplace=True)\n",
        "stellar_df.dropna(subset=[\"B-V\"],inplace=True)\n",
        "stellar_df.dropna(subset=[\"Vmag\"],inplace=True)"
      ],
      "execution_count": null,
      "outputs": []
    },
    {
      "cell_type": "code",
      "metadata": {
        "id": "gIUPJwtTLqKN"
      },
      "source": [
        "stellar_df.at[1843,\"e_Plx\"]=stellar_df[\"e_Plx\"][1843].strip()"
      ],
      "execution_count": null,
      "outputs": []
    },
    {
      "cell_type": "markdown",
      "metadata": {
        "id": "z_5zyZuboann"
      },
      "source": [
        "We convert our columns to numeric so that it is possible to operate on them."
      ]
    },
    {
      "cell_type": "code",
      "metadata": {
        "id": "Yh_IC2gpLMPW"
      },
      "source": [
        "stellar_df[\"e_Plx\"]=pd.to_numeric(stellar_df[\"e_Plx\"],errors=\"coerce\")\n",
        "stellar_df[\"Vmag\"]=pd.to_numeric(stellar_df[\"Vmag\"],errors=\"coerce\")\n",
        "stellar_df[\"Plx\"]=pd.to_numeric(stellar_df[\"Plx\"],errors=\"coerce\")\n",
        "stellar_df[\"B-V\"]=pd.to_numeric(stellar_df[\"B-V\"],errors=\"coerce\")"
      ],
      "execution_count": null,
      "outputs": []
    },
    {
      "cell_type": "markdown",
      "metadata": {
        "id": "v9zR66MoonLK"
      },
      "source": [
        "We drop any entry where the error in parallax is greater than 2.5."
      ]
    },
    {
      "cell_type": "code",
      "metadata": {
        "id": "8uRk4fALF_qf"
      },
      "source": [
        "stellar_df.drop(stellar_df[stellar_df[\"e_Plx\"]>=2.5].index,inplace=True)"
      ],
      "execution_count": null,
      "outputs": []
    },
    {
      "cell_type": "markdown",
      "metadata": {
        "id": "8zQZvFKoouwh"
      },
      "source": [
        "We drop any entry where the classification is not proper, rule of the thumb being that the classification has to be in uppercase letters only."
      ]
    },
    {
      "cell_type": "code",
      "metadata": {
        "id": "hxY4dbaL7gbH"
      },
      "source": [
        "stellar_df.loc[stellar_df[\"SpType\"].str.isupper()==False]=np.nan"
      ],
      "execution_count": null,
      "outputs": []
    },
    {
      "cell_type": "code",
      "metadata": {
        "colab": {
          "base_uri": "https://localhost:8080/"
        },
        "id": "Ouy8X3ThJTqU",
        "outputId": "621066a4-367a-42b8-f38b-2f0b9fdcb852"
      },
      "source": [
        "stellar_df.dropna\n"
      ],
      "execution_count": null,
      "outputs": [
        {
          "output_type": "execute_result",
          "data": {
            "text/plain": [
              "<bound method DataFrame.dropna of        Unnamed: 0  Vmag    Plx  e_Plx    B-V    SpType\n",
              "0             0.0  9.10   3.54   1.39  0.482        F5\n",
              "2             2.0  6.61   2.81   0.63 -0.019        B9\n",
              "3             3.0  8.06   7.75   0.97  0.370       F0V\n",
              "4             4.0  8.55   2.87   1.11  0.902     G8III\n",
              "6             6.0  9.64  17.74   1.30  0.740        G0\n",
              "...           ...   ...    ...    ...    ...       ...\n",
              "99994     99994.0  8.72   3.07   0.87  0.097        B3\n",
              "99995     99995.0  9.25    NaN    NaN  0.131       A1V\n",
              "99996     99996.0  8.08   1.07   0.68  1.094        G5\n",
              "99997     99997.0  6.98   2.97   0.76 -0.143     B1.5V\n",
              "99998     99998.0  8.51  -1.18   1.34  1.568  K5/M0III\n",
              "\n",
              "[93373 rows x 6 columns]>"
            ]
          },
          "metadata": {
            "tags": []
          },
          "execution_count": 19
        }
      ]
    },
    {
      "cell_type": "markdown",
      "metadata": {
        "id": "NPACy5gepA83"
      },
      "source": [
        "Although negative parallaxes are a thing but they are just an irregularity and not useful in our case so we drop them."
      ]
    },
    {
      "cell_type": "code",
      "metadata": {
        "id": "EzdxD6p67rOZ"
      },
      "source": [
        "stellar_df.drop(stellar_df[stellar_df[\"Plx\"]<0].index,inplace=True)"
      ],
      "execution_count": null,
      "outputs": []
    },
    {
      "cell_type": "code",
      "metadata": {
        "id": "hvpYvmoA-CqU"
      },
      "source": [
        "stellar_df.dropna(subset=[\"SpType\"],inplace=True)\n",
        "stellar_df.dropna(subset=[\"Plx\"],inplace=True)\n",
        "stellar_df.dropna(subset=[\"e_Plx\"],inplace=True)\n",
        "stellar_df.dropna(subset=[\"B-V\"],inplace=True)\n",
        "stellar_df.dropna(subset=[\"Vmag\"],inplace=True)"
      ],
      "execution_count": null,
      "outputs": []
    },
    {
      "cell_type": "code",
      "metadata": {
        "id": "EP-Jh6nlF_qf"
      },
      "source": [
        "import jovian"
      ],
      "execution_count": null,
      "outputs": []
    },
    {
      "cell_type": "code",
      "metadata": {
        "colab": {
          "base_uri": "https://localhost:8080/",
          "height": 86
        },
        "id": "roR0j6y5F_qg",
        "outputId": "990b0005-49e2-4081-dad2-1a0301e77f71"
      },
      "source": [
        "jovian.commit()"
      ],
      "execution_count": null,
      "outputs": [
        {
          "output_type": "stream",
          "text": [
            "[jovian] Detected Colab notebook...\u001b[0m\n",
            "[jovian] Uploading colab notebook to Jovian...\u001b[0m\n",
            "Committed successfully! https://jovian.ai/shantanusahay99/stellar-classification-mk-system\n"
          ],
          "name": "stdout"
        },
        {
          "output_type": "execute_result",
          "data": {
            "application/vnd.google.colaboratory.intrinsic+json": {
              "type": "string"
            },
            "text/plain": [
              "'https://jovian.ai/shantanusahay99/stellar-classification-mk-system'"
            ]
          },
          "metadata": {
            "tags": []
          },
          "execution_count": 24
        }
      ]
    },
    {
      "cell_type": "markdown",
      "metadata": {
        "id": "I7esgmkBF_qj"
      },
      "source": [
        "## Exploratory Analysis and Visualization\n",
        "\n",
        "Now we will just take a look at the various columns of our dataset and also see how there values vary across the dataset.\n",
        "\n"
      ]
    },
    {
      "cell_type": "markdown",
      "metadata": {
        "id": "imWizusZF_qn"
      },
      "source": [
        "Let's begin by importing`matplotlib.pyplot` and `seaborn`."
      ]
    },
    {
      "cell_type": "code",
      "metadata": {
        "id": "ehjK05azF_qo"
      },
      "source": [
        "import seaborn as sns\n",
        "import matplotlib\n",
        "import matplotlib.pyplot as plt\n",
        "%matplotlib inline\n",
        "\n",
        "sns.set_style('darkgrid')\n",
        "matplotlib.rcParams['font.size'] = 14\n",
        "matplotlib.rcParams['figure.figsize'] = (9, 5)\n",
        "matplotlib.rcParams['figure.facecolor'] = '#00000000'"
      ],
      "execution_count": null,
      "outputs": []
    },
    {
      "cell_type": "code",
      "metadata": {
        "colab": {
          "base_uri": "https://localhost:8080/",
          "height": 297
        },
        "id": "kILb0UeP48gX",
        "outputId": "78c3540d-237c-4779-e648-f1f425b53f7d"
      },
      "source": [
        "stellar_df.describe()"
      ],
      "execution_count": null,
      "outputs": [
        {
          "output_type": "execute_result",
          "data": {
            "text/html": [
              "<div>\n",
              "<style scoped>\n",
              "    .dataframe tbody tr th:only-of-type {\n",
              "        vertical-align: middle;\n",
              "    }\n",
              "\n",
              "    .dataframe tbody tr th {\n",
              "        vertical-align: top;\n",
              "    }\n",
              "\n",
              "    .dataframe thead th {\n",
              "        text-align: right;\n",
              "    }\n",
              "</style>\n",
              "<table border=\"1\" class=\"dataframe\">\n",
              "  <thead>\n",
              "    <tr style=\"text-align: right;\">\n",
              "      <th></th>\n",
              "      <th>Unnamed: 0</th>\n",
              "      <th>Vmag</th>\n",
              "      <th>Plx</th>\n",
              "      <th>e_Plx</th>\n",
              "      <th>B-V</th>\n",
              "    </tr>\n",
              "  </thead>\n",
              "  <tbody>\n",
              "    <tr>\n",
              "      <th>count</th>\n",
              "      <td>86036.000000</td>\n",
              "      <td>86036.000000</td>\n",
              "      <td>86036.000000</td>\n",
              "      <td>86036.000000</td>\n",
              "      <td>86036.000000</td>\n",
              "    </tr>\n",
              "    <tr>\n",
              "      <th>mean</th>\n",
              "      <td>49842.855014</td>\n",
              "      <td>8.245710</td>\n",
              "      <td>7.150903</td>\n",
              "      <td>1.124656</td>\n",
              "      <td>0.705666</td>\n",
              "    </tr>\n",
              "    <tr>\n",
              "      <th>std</th>\n",
              "      <td>28881.851073</td>\n",
              "      <td>1.164379</td>\n",
              "      <td>9.856636</td>\n",
              "      <td>0.369348</td>\n",
              "      <td>0.477800</td>\n",
              "    </tr>\n",
              "    <tr>\n",
              "      <th>min</th>\n",
              "      <td>0.000000</td>\n",
              "      <td>-0.010000</td>\n",
              "      <td>0.000000</td>\n",
              "      <td>0.380000</td>\n",
              "      <td>-0.400000</td>\n",
              "    </tr>\n",
              "    <tr>\n",
              "      <th>25%</th>\n",
              "      <td>24763.750000</td>\n",
              "      <td>7.610000</td>\n",
              "      <td>2.730000</td>\n",
              "      <td>0.860000</td>\n",
              "      <td>0.364000</td>\n",
              "    </tr>\n",
              "    <tr>\n",
              "      <th>50%</th>\n",
              "      <td>49719.000000</td>\n",
              "      <td>8.360000</td>\n",
              "      <td>4.740000</td>\n",
              "      <td>1.070000</td>\n",
              "      <td>0.614000</td>\n",
              "    </tr>\n",
              "    <tr>\n",
              "      <th>75%</th>\n",
              "      <td>74835.250000</td>\n",
              "      <td>9.000000</td>\n",
              "      <td>8.350000</td>\n",
              "      <td>1.310000</td>\n",
              "      <td>1.071000</td>\n",
              "    </tr>\n",
              "    <tr>\n",
              "      <th>max</th>\n",
              "      <td>99997.000000</td>\n",
              "      <td>12.310000</td>\n",
              "      <td>742.120000</td>\n",
              "      <td>2.490000</td>\n",
              "      <td>5.460000</td>\n",
              "    </tr>\n",
              "  </tbody>\n",
              "</table>\n",
              "</div>"
            ],
            "text/plain": [
              "         Unnamed: 0          Vmag           Plx         e_Plx           B-V\n",
              "count  86036.000000  86036.000000  86036.000000  86036.000000  86036.000000\n",
              "mean   49842.855014      8.245710      7.150903      1.124656      0.705666\n",
              "std    28881.851073      1.164379      9.856636      0.369348      0.477800\n",
              "min        0.000000     -0.010000      0.000000      0.380000     -0.400000\n",
              "25%    24763.750000      7.610000      2.730000      0.860000      0.364000\n",
              "50%    49719.000000      8.360000      4.740000      1.070000      0.614000\n",
              "75%    74835.250000      9.000000      8.350000      1.310000      1.071000\n",
              "max    99997.000000     12.310000    742.120000      2.490000      5.460000"
            ]
          },
          "metadata": {
            "tags": []
          },
          "execution_count": 26
        }
      ]
    },
    {
      "cell_type": "markdown",
      "metadata": {
        "id": "8duAeUaSF_qq"
      },
      "source": [
        "As we can see from the .describe() method that most of the values of the parallax lie within 8.35 it would be nice to how they are distributed."
      ]
    },
    {
      "cell_type": "code",
      "metadata": {
        "colab": {
          "base_uri": "https://localhost:8080/",
          "height": 327
        },
        "id": "Ur63BbZYxDv4",
        "outputId": "22013177-9376-4ccf-e5e6-c7c88e5d0358"
      },
      "source": [
        "plt.hist(stellar_df.Plx,bins=range(0,40,1));"
      ],
      "execution_count": null,
      "outputs": [
        {
          "output_type": "display_data",
          "data": {
            "image/png": "[encoded data removed]",
            "text/plain": [
              "<Figure size 648x360 with 1 Axes>"
            ]
          },
          "metadata": {
            "tags": [],
            "needs_background": "light"
          }
        }
      ]
    },
    {
      "cell_type": "markdown",
      "metadata": {
        "id": "O15CjOT8qXek"
      },
      "source": [
        "Clearly almost all of the values of parallax are very as it should be because stars are very far away fromm us."
      ]
    },
    {
      "cell_type": "markdown",
      "metadata": {
        "id": "YvI5MCIwF_qv"
      },
      "source": [
        "Next we see how the errors in parallax are distributed."
      ]
    },
    {
      "cell_type": "code",
      "metadata": {
        "colab": {
          "base_uri": "https://localhost:8080/",
          "height": 329
        },
        "id": "Ru5ufpCoc8tX",
        "outputId": "b2efcfbd-6e90-4669-cf46-79b3c72975c0"
      },
      "source": [
        "plt.hist(stellar_df.e_Plx,bins=[0,0.5,1.0,1.5,2.0,2.5]);"
      ],
      "execution_count": null,
      "outputs": [
        {
          "output_type": "display_data",
          "data": {
            "image/png": "[encoded data removed]",
            "text/plain": [
              "<Figure size 648x360 with 1 Axes>"
            ]
          },
          "metadata": {
            "tags": [],
            "needs_background": "light"
          }
        }
      ]
    },
    {
      "cell_type": "markdown",
      "metadata": {
        "id": "wCPE1huyrSv0"
      },
      "source": [
        "Most of the stars have an error of 0.5 to 1.5 in their stellar parallax."
      ]
    },
    {
      "cell_type": "markdown",
      "metadata": {
        "id": "XIvtxi9xF_qx"
      },
      "source": [
        "Here we arre checking that how many of hese stars would be visible to the human eye based on the fact that any star with Apparent Magnitude greater than 6.5 is invisible to the human eye."
      ]
    },
    {
      "cell_type": "code",
      "metadata": {
        "id": "Z8iFTXgHF_qy"
      },
      "source": [
        "stellar_df.loc[stellar_df[\"Vmag\"]>6.5,\"Visible\"]=False\n",
        "stellar_df.loc[stellar_df[\"Vmag\"]<=6.5,\"Visible\"]=True"
      ],
      "execution_count": null,
      "outputs": []
    },
    {
      "cell_type": "code",
      "metadata": {
        "colab": {
          "base_uri": "https://localhost:8080/",
          "height": 303
        },
        "id": "6kW6isO-oWXq",
        "outputId": "9de4fb9f-40cf-4a6f-cac8-215add2fea1b"
      },
      "source": [
        "df=stellar_df.groupby(\"Visible\")[\"Vmag\"].count()\n",
        "#color_dict={True:\"Visible\",False:\"Invisible\"}\n",
        "#plt.pie(df.Vmag,labels=df.keys());\n",
        "plt.pie(df,labels=df.keys());"
      ],
      "execution_count": null,
      "outputs": [
        {
          "output_type": "display_data",
          "data": {
            "image/png": "[encoded data removed]",
            "text/plain": [
              "<Figure size 648x360 with 1 Axes>"
            ]
          },
          "metadata": {
            "tags": []
          }
        }
      ]
    },
    {
      "cell_type": "markdown",
      "metadata": {
        "id": "DZqzFdbBsBFy"
      },
      "source": [
        "As is clear from this pie chart that a huge chunk of these stars is invisible to the naked eye."
      ]
    },
    {
      "cell_type": "markdown",
      "metadata": {
        "id": "5QeAxO-mF_q4"
      },
      "source": [
        "Next we see how are the parallaxes of these visible and invisible stars are distributed."
      ]
    },
    {
      "cell_type": "code",
      "metadata": {
        "id": "-hkUb-gHF_q6",
        "colab": {
          "base_uri": "https://localhost:8080/",
          "height": 342
        },
        "outputId": "71a5a1cf-91c1-497c-e39e-744fec70c8f7"
      },
      "source": [
        "sns.barplot(x=\"Visible\",y=\"Plx\",data=stellar_df);"
      ],
      "execution_count": null,
      "outputs": [
        {
          "output_type": "display_data",
          "data": {
            "image/png": "[encoded data removed]",
            "text/plain": [
              "<Figure size 648x360 with 1 Axes>"
            ]
          },
          "metadata": {
            "tags": [],
            "needs_background": "light"
          }
        }
      ]
    },
    {
      "cell_type": "markdown",
      "metadata": {
        "id": "pzsUs61rtLJS"
      },
      "source": [
        "So very close by stars(having large parallax) which are not very bright are also not visible."
      ]
    },
    {
      "cell_type": "markdown",
      "metadata": {
        "id": "gm46u73CF_q8"
      },
      "source": [
        "Here we observe how the Apparent magnitude of the stars changes with the Parallax."
      ]
    },
    {
      "cell_type": "code",
      "metadata": {
        "id": "uYzeOqvzF_q9",
        "colab": {
          "base_uri": "https://localhost:8080/",
          "height": 396
        },
        "outputId": "bbdd0fe1-6d3a-4e04-dae8-1e085e3ea972"
      },
      "source": [
        "sns.scatterplot(stellar_df.Plx,stellar_df.Vmag,hue=stellar_df.Visible);"
      ],
      "execution_count": null,
      "outputs": [
        {
          "output_type": "stream",
          "text": [
            "/usr/local/lib/python3.7/dist-packages/seaborn/_decorators.py:43: FutureWarning: Pass the following variables as keyword args: x, y. From version 0.12, the only valid positional argument will be `data`, and passing other arguments without an explicit keyword will result in an error or misinterpretation.\n",
            "  FutureWarning\n"
          ],
          "name": "stderr"
        },
        {
          "output_type": "display_data",
          "data": {
            "image/png": "[encoded data removed]",
            "text/plain": [
              "<Figure size 648x360 with 1 Axes>"
            ]
          },
          "metadata": {
            "tags": [],
            "needs_background": "light"
          }
        }
      ]
    },
    {
      "cell_type": "markdown",
      "metadata": {
        "id": "0V0NbHU2vNTJ"
      },
      "source": [
        "On the whole the plot is very simplistic but amongst the outlies we see that even some of the closest stars are invisible. So just because we see a star closer to earth we can't say that it will be visible to the naked eye."
      ]
    },
    {
      "cell_type": "markdown",
      "metadata": {
        "id": "cA2lPYcPF_q-"
      },
      "source": [
        "Let us save and upload our work to Jovian before continuing"
      ]
    },
    {
      "cell_type": "code",
      "metadata": {
        "id": "izSQ_Ev0F_q_"
      },
      "source": [
        "import jovian"
      ],
      "execution_count": null,
      "outputs": []
    },
    {
      "cell_type": "code",
      "metadata": {
        "colab": {
          "base_uri": "https://localhost:8080/",
          "height": 86
        },
        "id": "qSaTGaRtF_rB",
        "outputId": "6862d00e-ee61-4417-9a93-2ca7ce218860"
      },
      "source": [
        "jovian.commit()"
      ],
      "execution_count": null,
      "outputs": [
        {
          "output_type": "stream",
          "text": [
            "[jovian] Detected Colab notebook...\u001b[0m\n",
            "[jovian] Uploading colab notebook to Jovian...\u001b[0m\n",
            "Committed successfully! https://jovian.ai/shantanusahay99/stellar-classification-mk-system\n"
          ],
          "name": "stdout"
        },
        {
          "output_type": "execute_result",
          "data": {
            "application/vnd.google.colaboratory.intrinsic+json": {
              "type": "string"
            },
            "text/plain": [
              "'https://jovian.ai/shantanusahay99/stellar-classification-mk-system'"
            ]
          },
          "metadata": {
            "tags": []
          },
          "execution_count": 84
        }
      ]
    },
    {
      "cell_type": "markdown",
      "metadata": {
        "id": "gtJg3EXUF_rC"
      },
      "source": [
        "## Asking and Answering Questions\n",
        "\n",
        "Now we'll find some more quantities like temperature and absolute magnitude of the stars in our dataset.\n",
        "\n"
      ]
    },
    {
      "cell_type": "markdown",
      "metadata": {
        "id": "-_iHqdKbF_rF"
      },
      "source": [
        "####Q1: Classify the stars as Hot or Cold baased on their B-V values."
      ]
    },
    {
      "cell_type": "markdown",
      "metadata": {
        "id": "FUuEVUMrypK-"
      },
      "source": [
        "Any star having a B-V value greater than 1.5 considered Cool and one with B-V value less than 1.5 is considered Hot."
      ]
    },
    {
      "cell_type": "code",
      "metadata": {
        "id": "NYYf1jd_F_rG"
      },
      "source": [
        "stellar_df['B-V'] = pd.to_numeric(stellar_df['B-V'],errors='coerce')\n",
        "\n",
        "stellar_df.loc[stellar_df[\"B-V\"] > (1.5), 'hot_cool'] = \"Cool\"\n",
        "stellar_df.loc[stellar_df[\"B-V\"] < (1.5), 'hot_cool'] = \"Hot\""
      ],
      "execution_count": null,
      "outputs": []
    },
    {
      "cell_type": "markdown",
      "metadata": {
        "id": "RlsZd9AnF_rJ"
      },
      "source": [
        "####Q2: Find the distances of the stars in parsec."
      ]
    },
    {
      "cell_type": "markdown",
      "metadata": {
        "id": "SSS7vHbbzi-7"
      },
      "source": [
        "We will simply use the formula \n",
        "\n",
        "Dist in parsec=1/(Stellar Parallax)"
      ]
    },
    {
      "cell_type": "code",
      "metadata": {
        "id": "zxbHxtODF_rK",
        "colab": {
          "base_uri": "https://localhost:8080/"
        },
        "outputId": "33dc5d76-e8ab-4ac4-b191-cb26ab04c80e"
      },
      "source": [
        "stellar_df['Plx'] = pd.to_numeric(stellar_df['Plx'],errors='coerce')\n",
        "stellar_df = stellar_df[stellar_df.Plx != 0]\n",
        "stellar_df[\"parsec\"]=stellar_df.Plx.apply(lambda x: 1/x)"
      ],
      "execution_count": null,
      "outputs": [
        {
          "output_type": "stream",
          "text": [
            "/usr/local/lib/python3.7/dist-packages/ipykernel_launcher.py:3: SettingWithCopyWarning: \n",
            "A value is trying to be set on a copy of a slice from a DataFrame.\n",
            "Try using .loc[row_indexer,col_indexer] = value instead\n",
            "\n",
            "See the caveats in the documentation: https://pandas.pydata.org/pandas-docs/stable/user_guide/indexing.html#returning-a-view-versus-a-copy\n",
            "  This is separate from the ipykernel package so we can avoid doing imports until\n"
          ],
          "name": "stderr"
        }
      ]
    },
    {
      "cell_type": "markdown",
      "metadata": {
        "id": "6kO75AozF_rM"
      },
      "source": [
        "####Q3: Find the absolute magnitude of the stars."
      ]
    },
    {
      "cell_type": "markdown",
      "metadata": {
        "id": "TxTsRyqp0eqe"
      },
      "source": [
        "Here we'll use the formula \n",
        "\n",
        "ABSOLUTE MAGNUITUDE, M=m+5(log10(p)+1)\n",
        "\n",
        "M=Amag\n",
        "\n",
        "m=Vmag\n",
        "\n",
        "p=Plx"
      ]
    },
    {
      "cell_type": "code",
      "metadata": {
        "id": "Fc_JQOpHF_rN",
        "colab": {
          "base_uri": "https://localhost:8080/"
        },
        "outputId": "2935e5d6-0e9b-4e80-c454-d5674cdcbf39"
      },
      "source": [
        "stellar_df['Vmag'] = pd.to_numeric(stellar_df['Vmag'],errors='coerce')\n",
        "stellar_df[\"Amag\"]=stellar_df[\"Vmag\"]+5*(np.log10(stellar_df[\"Vmag\"])+1)"
      ],
      "execution_count": null,
      "outputs": [
        {
          "output_type": "stream",
          "text": [
            "/usr/local/lib/python3.7/dist-packages/ipykernel_launcher.py:1: SettingWithCopyWarning: \n",
            "A value is trying to be set on a copy of a slice from a DataFrame.\n",
            "Try using .loc[row_indexer,col_indexer] = value instead\n",
            "\n",
            "See the caveats in the documentation: https://pandas.pydata.org/pandas-docs/stable/user_guide/indexing.html#returning-a-view-versus-a-copy\n",
            "  \"\"\"Entry point for launching an IPython kernel.\n",
            "/usr/local/lib/python3.7/dist-packages/pandas/core/series.py:726: RuntimeWarning: invalid value encountered in log10\n",
            "  result = getattr(ufunc, method)(*inputs, **kwargs)\n",
            "/usr/local/lib/python3.7/dist-packages/ipykernel_launcher.py:2: SettingWithCopyWarning: \n",
            "A value is trying to be set on a copy of a slice from a DataFrame.\n",
            "Try using .loc[row_indexer,col_indexer] = value instead\n",
            "\n",
            "See the caveats in the documentation: https://pandas.pydata.org/pandas-docs/stable/user_guide/indexing.html#returning-a-view-versus-a-copy\n",
            "  \n"
          ],
          "name": "stderr"
        }
      ]
    },
    {
      "cell_type": "markdown",
      "metadata": {
        "id": "_9Qv7rqu08y7"
      },
      "source": [
        "The smaller the Absolute magnitude, Brighter the object"
      ]
    },
    {
      "cell_type": "markdown",
      "metadata": {
        "id": "B4NZebqqF_rP"
      },
      "source": [
        "####Q4: What are the temperatures of the stars in the datset? Also plot it against the Absolute magnitude of the stars."
      ]
    },
    {
      "cell_type": "markdown",
      "metadata": {
        "id": "9q36X-Zr1OQi"
      },
      "source": [
        "For temperature we'll use the formula\n",
        "\n",
        "Temperature, T=4600K((1/(0.92*BV+1.7))+(1/(0.92*BV+0.62))\n"
      ]
    },
    {
      "cell_type": "code",
      "metadata": {
        "id": "U_edAjEBF_rQ",
        "colab": {
          "base_uri": "https://localhost:8080/"
        },
        "outputId": "c8943524-1a3c-4db2-81ca-806dbbcc9c8c"
      },
      "source": [
        "#T=4600K((1/(0.92*BV+1.7))+(1/(0.92*BV+0.62))\n",
        "stellar_df[\"Temp\"]=4600*(1/(0.92*stellar_df[\"B-V\"]+1.7)+1/(0.92*stellar_df[\"B-V\"]+0.62))"
      ],
      "execution_count": null,
      "outputs": [
        {
          "output_type": "stream",
          "text": [
            "/usr/local/lib/python3.7/dist-packages/ipykernel_launcher.py:2: SettingWithCopyWarning: \n",
            "A value is trying to be set on a copy of a slice from a DataFrame.\n",
            "Try using .loc[row_indexer,col_indexer] = value instead\n",
            "\n",
            "See the caveats in the documentation: https://pandas.pydata.org/pandas-docs/stable/user_guide/indexing.html#returning-a-view-versus-a-copy\n",
            "  \n"
          ],
          "name": "stderr"
        }
      ]
    },
    {
      "cell_type": "code",
      "metadata": {
        "id": "oxcFWNG9F_rQ",
        "colab": {
          "base_uri": "https://localhost:8080/",
          "height": 396
        },
        "outputId": "ccf57707-de75-4d75-f117-0ae929b21287"
      },
      "source": [
        "sns.scatterplot(\"Temp\",\"Amag\",hue=\"hot_cool\",data=stellar_df);"
      ],
      "execution_count": null,
      "outputs": [
        {
          "output_type": "stream",
          "text": [
            "/usr/local/lib/python3.7/dist-packages/seaborn/_decorators.py:43: FutureWarning: Pass the following variables as keyword args: x, y. From version 0.12, the only valid positional argument will be `data`, and passing other arguments without an explicit keyword will result in an error or misinterpretation.\n",
            "  FutureWarning\n"
          ],
          "name": "stderr"
        },
        {
          "output_type": "display_data",
          "data": {
            "image/png": "[encoded data removed]",
            "text/plain": [
              "<Figure size 648x360 with 1 Axes>"
            ]
          },
          "metadata": {
            "tags": [],
            "needs_background": "light"
          }
        }
      ]
    },
    {
      "cell_type": "markdown",
      "metadata": {
        "id": "q2Y1k_TY104Y"
      },
      "source": [
        "We see that mopst of the cooler stars are nort very bright(have a high Amag value)."
      ]
    },
    {
      "cell_type": "markdown",
      "metadata": {
        "id": "XLgYtiWhF_rb"
      },
      "source": [
        "####Q5: This datasets had some values of zero parallax which were removed while cleaning.Explain these anamalous values. Also find the percentage of stars that are very far away from the earth in this dataset."
      ]
    },
    {
      "cell_type": "markdown",
      "metadata": {
        "id": "pz7Z1BPujmUu"
      },
      "source": [
        "Technically there should be no stars with zero parallax but the stars which are so far away that their parallaxes tend to zero are said to have zero parallax. They are used as screen against which parallax of other stars are calculated."
      ]
    },
    {
      "cell_type": "code",
      "metadata": {
        "id": "_KXPFkWYF_rc",
        "colab": {
          "base_uri": "https://localhost:8080/"
        },
        "outputId": "9061e6e1-b6ea-4dc2-f7e8-81b600a838e4"
      },
      "source": [
        "far_star=stellar_df.Plx.where(stellar_df.Plx<0.02).count()\n",
        "all_star=len(stellar_df)\n",
        "print(f\"Out of {all_star} in our dataset {far_star} are the farthest as they have a parallax of less than 0.02\")"
      ],
      "execution_count": null,
      "outputs": [
        {
          "output_type": "stream",
          "text": [
            "Out of 86008 in our dataset 32 are the farthest as they have a parallax of less than 0.02\n"
          ],
          "name": "stdout"
        }
      ]
    },
    {
      "cell_type": "code",
      "metadata": {
        "id": "uzcrlvs2F_rc",
        "colab": {
          "base_uri": "https://localhost:8080/"
        },
        "outputId": "e9f1aaa6-be8d-424d-954a-30bad62d1829"
      },
      "source": [
        "print(f\"So a total of {(far_star/all_star)*100}% stars from our dataset can be used as stationary stars\")"
      ],
      "execution_count": null,
      "outputs": [
        {
          "output_type": "stream",
          "text": [
            "So a total of 0.037205841317086784% stars from our dataset can be used as stationary stars\n"
          ],
          "name": "stdout"
        }
      ]
    },
    {
      "cell_type": "markdown",
      "metadata": {
        "id": "fTcSaOdQF_rg"
      },
      "source": [
        "Let us save and upload our work to Jovian before continuing."
      ]
    },
    {
      "cell_type": "code",
      "metadata": {
        "id": "YPDxcY3DF_rh"
      },
      "source": [
        "import jovian"
      ],
      "execution_count": null,
      "outputs": []
    },
    {
      "cell_type": "code",
      "metadata": {
        "id": "4p6PO6TdF_ri",
        "colab": {
          "base_uri": "https://localhost:8080/",
          "height": 86
        },
        "outputId": "b46bb344-8cab-4d63-826c-5a220630e4d4"
      },
      "source": [
        "jovian.commit()"
      ],
      "execution_count": null,
      "outputs": [
        {
          "output_type": "stream",
          "text": [
            "[jovian] Detected Colab notebook...\u001b[0m\n",
            "[jovian] Uploading colab notebook to Jovian...\u001b[0m\n",
            "Committed successfully! https://jovian.ai/shantanusahay99/stellar-classification-mk-system\n"
          ],
          "name": "stdout"
        },
        {
          "output_type": "execute_result",
          "data": {
            "application/vnd.google.colaboratory.intrinsic+json": {
              "type": "string"
            },
            "text/plain": [
              "'https://jovian.ai/shantanusahay99/stellar-classification-mk-system'"
            ]
          },
          "metadata": {
            "tags": []
          },
          "execution_count": 135
        }
      ]
    },
    {
      "cell_type": "markdown",
      "metadata": {
        "id": "4whz2X95F_rj"
      },
      "source": [
        "## Inferences and Conclusion\n",
        "\n",
        "\n",
        "\n",
        "*   Most of these stars are really far away\n",
        "*   More than 75% of the stars are actually not visible to the human eye\n",
        "*   The temp of these stars is mostly greater than 300kK so they must be Main   Sequence stars\n",
        "*   Even if a star is close by it doesn't need to be visible. It depends on its chemical constitution\n",
        "\n",
        "\n",
        "\n",
        "\n"
      ]
    },
    {
      "cell_type": "code",
      "metadata": {
        "id": "X3jvdKuxF_rk"
      },
      "source": [
        "import jovian"
      ],
      "execution_count": null,
      "outputs": []
    },
    {
      "cell_type": "code",
      "metadata": {
        "id": "Zo8tj7BpF_rl",
        "colab": {
          "base_uri": "https://localhost:8080/",
          "height": 86
        },
        "outputId": "912fedb5-a6ee-4921-f60a-9dc2a531ebec"
      },
      "source": [
        "jovian.commit()"
      ],
      "execution_count": null,
      "outputs": [
        {
          "output_type": "stream",
          "text": [
            "[jovian] Detected Colab notebook...\u001b[0m\n",
            "[jovian] Uploading colab notebook to Jovian...\u001b[0m\n",
            "Committed successfully! https://jovian.ai/shantanusahay99/stellar-classification-mk-system\n"
          ],
          "name": "stdout"
        },
        {
          "output_type": "execute_result",
          "data": {
            "application/vnd.google.colaboratory.intrinsic+json": {
              "type": "string"
            },
            "text/plain": [
              "'https://jovian.ai/shantanusahay99/stellar-classification-mk-system'"
            ]
          },
          "metadata": {
            "tags": []
          },
          "execution_count": 137
        }
      ]
    },
    {
      "cell_type": "markdown",
      "metadata": {
        "id": "EOTnaB2dF_ro"
      },
      "source": [
        "## References and Future Work\n",
        "\n",
        "Following websites were very useful to me:\n",
        "\n",
        "1. https://en.wikipedia.org/wiki/Stellar_classification\n",
        "2. https://www.kaggle.com/learn/overview\n",
        "3. https://www.kaggle.com/learn/overview\n",
        "4. https://www.geeksforgeeks.org/\n",
        "5. https://stackexchange.com/filters/169\n",
        "\n",
        "\n",
        "Further with this dataset one could clasiify the stars in their various classes\n"
      ]
    },
    {
      "cell_type": "markdown",
      "metadata": {
        "id": "O8AUJuSmF_rp"
      },
      "source": [
        "> Submission Instructions (delete this cell)\n",
        "> \n",
        "> - Upload your notebook to your Jovian.ml profile using `jovian.commit`.\n",
        "> - **Make a submission here**: https://jovian.ml/learn/data-analysis-with-python-zero-to-pandas/assignment/course-project\n",
        "> - Share your work on the forum: https://jovian.ml/forum/t/course-project-on-exploratory-data-analysis-discuss-and-share-your-work/11684\n",
        "> - Share your work on social media (Twitter, LinkedIn, Telegram etc.) and tag [@JovianML](https://twitter.com/jovianml)\n",
        ">\n",
        "> (Optional) Write a blog post\n",
        "> \n",
        "> - A blog post is a great way to present and showcase your work.  \n",
        "> - Sign up on [Medium.com](https://medium.com) to write a blog post for your project.\n",
        "> - Copy over the explanations from your Jupyter notebook into your blog post, and [embed code cells & outputs](https://medium.com/jovianml/share-and-embed-jupyter-notebooks-online-with-jovian-ml-df709a03064e)\n",
        "> - Check out the Jovian.ml Medium publication for inspiration: https://medium.com/jovianml\n",
        "\n",
        "\n",
        " "
      ]
    },
    {
      "cell_type": "code",
      "metadata": {
        "id": "SyST2QYeF_rq"
      },
      "source": [
        "import jovian"
      ],
      "execution_count": null,
      "outputs": []
    },
    {
      "cell_type": "code",
      "metadata": {
        "id": "2e0sqo6rF_rr",
        "scrolled": true,
        "colab": {
          "base_uri": "https://localhost:8080/",
          "height": 86
        },
        "outputId": "eee8b842-2b80-48fd-b7f7-71bfea19d5ad"
      },
      "source": [
        "jovian.commit()"
      ],
      "execution_count": null,
      "outputs": [
        {
          "output_type": "stream",
          "text": [
            "[jovian] Detected Colab notebook...\u001b[0m\n",
            "[jovian] Uploading colab notebook to Jovian...\u001b[0m\n",
            "Committed successfully! https://jovian.ai/shantanusahay99/stellar-classification-mk-system\n"
          ],
          "name": "stdout"
        },
        {
          "output_type": "execute_result",
          "data": {
            "application/vnd.google.colaboratory.intrinsic+json": {
              "type": "string"
            },
            "text/plain": [
              "'https://jovian.ai/shantanusahay99/stellar-classification-mk-system'"
            ]
          },
          "metadata": {
            "tags": []
          },
          "execution_count": 139
        }
      ]
    },
    {
      "cell_type": "code",
      "metadata": {
        "id": "HCavkYfUF_rt",
        "colab": {
          "base_uri": "https://localhost:8080/"
        },
        "outputId": "eb9bf313-82a2-4098-89c6-fcdb24c00564"
      },
      "source": [
        "jovian.submit(assignment=\"zero-to-pandas-project\")"
      ],
      "execution_count": null,
      "outputs": [
        {
          "output_type": "stream",
          "text": [
            "[jovian] Detected Colab notebook...\u001b[0m\n",
            "[jovian] Uploading colab notebook to Jovian...\u001b[0m\n",
            "Committed successfully! https://jovian.ai/shantanusahay99/stellar-classification-mk-system\n",
            "[jovian] Submitting assignment..\u001b[0m\n",
            "[jovian] Verify your submission at https://jovian.ai/learn/data-analysis-with-python-zero-to-pandas/assignment/course-project\u001b[0m\n"
          ],
          "name": "stdout"
        }
      ]
    }
  ]
}